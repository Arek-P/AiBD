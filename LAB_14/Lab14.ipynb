{
 "cells": [
  {
   "cell_type": "markdown",
   "id": "c7d0ab60",
   "metadata": {},
   "source": [
    "# Arkadiusz Pytlik"
   ]
  },
  {
   "cell_type": "markdown",
   "id": "6aecf0b7",
   "metadata": {},
   "source": [
    "Najpierw stworzono test, sprawdzający poprawność funkcji."
   ]
  },
  {
   "cell_type": "code",
   "execution_count": 1,
   "id": "ee20afec",
   "metadata": {},
   "outputs": [],
   "source": [
    "import pytest\n",
    "\n",
    "testdata3 = [\n",
    "    ([1,4,5,2,3,6],[1,2,3,4,5,6]),\n",
    "    ([9,4,2,6,2,1,3],[1,2,2,3,4,6,9])\n",
    "    ]\n",
    "\n",
    "@pytest.mark.parametrize('lst, sorted', testdata3)\n",
    "def test_bubble_sort(lst, sorted):\n",
    "\n",
    "    assert bubble_sort(lst) == sorted"
   ]
  },
  {
   "cell_type": "markdown",
   "id": "85e226a8",
   "metadata": {},
   "source": [
    "Następnie napisano funkcje"
   ]
  },
  {
   "cell_type": "code",
   "execution_count": 2,
   "id": "c668a37c",
   "metadata": {},
   "outputs": [],
   "source": [
    "from typing import List\n",
    "\n",
    "def bubble_sort(lst: List[int]):\n",
    "    \n",
    "    l = len(lst)\n",
    "    for i in range(l):\n",
    "        change = False\n",
    "        for j in range(l-i-1):\n",
    "            if lst[j] > lst[j+1]:\n",
    "                lst[j], lst[j+1] = lst[j+1], lst[j]\n",
    "                change = True\n",
    "        if not change:\n",
    "            return lst\n",
    "    return lst"
   ]
  },
  {
   "cell_type": "markdown",
   "id": "f79b81cb",
   "metadata": {},
   "source": [
    "Po uruchomieniu w terminalu komendy \"pytest\" wszystkie testy zostały pomyślnie zaliczne."
   ]
  },
  {
   "cell_type": "code",
   "execution_count": null,
   "id": "a718c1ab",
   "metadata": {},
   "outputs": [],
   "source": []
  }
 ],
 "metadata": {
  "kernelspec": {
   "display_name": "Python 3 (ipykernel)",
   "language": "python",
   "name": "python3"
  },
  "language_info": {
   "codemirror_mode": {
    "name": "ipython",
    "version": 3
   },
   "file_extension": ".py",
   "mimetype": "text/x-python",
   "name": "python",
   "nbconvert_exporter": "python",
   "pygments_lexer": "ipython3",
   "version": "3.8.10"
  }
 },
 "nbformat": 4,
 "nbformat_minor": 5
}
